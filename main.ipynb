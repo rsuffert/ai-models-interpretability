{
 "cells": [
  {
   "cell_type": "markdown",
   "metadata": {},
   "source": [
    "# T1 - Aprendizado de Máquina\n",
    "\n",
    "Este arquivo contém o código, bem como as explicações necessárias, para o T1 da disciplina de Aprendizado de Máquina, compreendendo as etapas de download do dataset escolhido, pré-processamento dos dados, treinamento dos modelos de **kNN, Naïve Bayes e Árvores de Decisão** e, por fim, suas avaliações, interpretações e comparações."
   ]
  },
  {
   "cell_type": "markdown",
   "metadata": {},
   "source": [
    "## Download do dataset\n",
    "\n",
    "O dataset escolhido para a tarefa de classificação possui dados sobre características físico-químicas da água e classifica as amostras em potável ou não. Nesta seção, fazemos o download do dataset do Kaggle e o convertemos para um objeto `pandas.DataFrame`."
   ]
  },
  {
   "cell_type": "code",
   "execution_count": null,
   "metadata": {},
   "outputs": [],
   "source": [
    "import kagglehub as kh\n",
    "import pandas    as pd\n",
    "import os\n",
    "\n",
    "dataset_path = kh.dataset_download(\"uom190346a/water-quality-and-potability\")\n",
    "dataset_file = \"water_potability.csv\"\n",
    "\n",
    "dataset_abs_path = os.path.join(dataset_path, dataset_file)\n",
    "\n",
    "df = pd.read_csv(dataset_abs_path)\n",
    "print(df.head())\n",
    "print(\"Shape:\", df.shape)"
   ]
  },
  {
   "cell_type": "markdown",
   "metadata": {},
   "source": [
    "## Pré-processamento\n",
    "\n",
    "Para o pré-processamento, serão aplicados:\n",
    "1. Tratamento de valores ausentes (NaNs) preenchendo-os com a mediana da coluna;\n",
    "2. Verificação de outliers e padronização dos dados (para o kNN);\n",
    "3. Separação de atributos (features) e rótulos (labels).\n",
    "\n",
    "Não será realizada a separação em conjuntos de treino e teste pois será utilizada **validação cruzada**."
   ]
  },
  {
   "cell_type": "code",
   "execution_count": null,
   "metadata": {},
   "outputs": [],
   "source": [
    "import seaborn as sns\n",
    "import matplotlib.pyplot as plt\n",
    "from sklearn.preprocessing import StandardScaler\n",
    "\n",
    "print(\"Valores NaN (pré-tratamento):\")\n",
    "print(df.isna().sum())\n",
    "df['ph'] = df['ph'].fillna(df['ph'].median())\n",
    "df['Sulfate'] = df['Sulfate'].fillna(df['Sulfate'].median())\n",
    "df['Trihalomethanes'] = df['Trihalomethanes'].fillna(df['Trihalomethanes'].median())\n",
    "\n",
    "numeric_columns = df.select_dtypes(include='number').columns\n",
    "plt.figure(figsize=(10, 5))\n",
    "for i, col in enumerate(numeric_columns):\n",
    "    plt.subplot(3, 4, i + 1)\n",
    "    sns.boxplot(data=df, y=col)\n",
    "    plt.title(col)\n",
    "    plt.tight_layout()\n",
    "plt.suptitle(\"Boxplots para detecção de outliers\", y=1.02)\n",
    "plt.show()\n",
    "\n",
    "X = df.drop(columns=['Potability'])\n",
    "y = df['Potability']\n",
    "\n",
    "# Padronizacao devido aos outliers para o kNN\n",
    "scaler = StandardScaler()\n",
    "X = pd.DataFrame(scaler.fit_transform(X), columns=X.columns)\n",
    "\n",
    "print(\"Dataset tratado:\")\n",
    "print(X.describe().round(2))"
   ]
  },
  {
   "cell_type": "markdown",
   "metadata": {},
   "source": [
    "## Treinamento dos modelos (com validação cruzada)"
   ]
  },
  {
   "cell_type": "markdown",
   "metadata": {},
   "source": [
    "## Avaliação dos modelos"
   ]
  },
  {
   "cell_type": "markdown",
   "metadata": {},
   "source": [
    "## Interpretação dos modelos"
   ]
  },
  {
   "cell_type": "markdown",
   "metadata": {},
   "source": [
    "## Comparações de interpretabiliade e limitações dos modelos"
   ]
  }
 ],
 "metadata": {
  "kernelspec": {
   "display_name": "env",
   "language": "python",
   "name": "python3"
  },
  "language_info": {
   "codemirror_mode": {
    "name": "ipython",
    "version": 3
   },
   "file_extension": ".py",
   "mimetype": "text/x-python",
   "name": "python",
   "nbconvert_exporter": "python",
   "pygments_lexer": "ipython3",
   "version": "3.10.12"
  }
 },
 "nbformat": 4,
 "nbformat_minor": 2
}
